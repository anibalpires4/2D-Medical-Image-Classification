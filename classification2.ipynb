{
 "cells": [
  {
   "cell_type": "code",
   "execution_count": 1,
   "metadata": {},
   "outputs": [],
   "source": [
    "import numpy as np \n",
    "import matplotlib.pyplot as plt\n",
    "import sklearn\n",
    "import pandas as pd\n",
    "from sklearn.utils import class_weight\n",
    "import tensorflow as tf\n",
    "from tensorflow.keras import datasets, layers, models, optimizers\n",
    "import matplotlib.pyplot as plt\n",
    "from keras.callbacks import Callback\n",
    "import keras.backend as K\n",
    "import random\n",
    "import tensorflow_addons as tfa\n",
    "import math\n",
    "from sklearn import svm\n",
    "from sklearn.metrics import classification_report, confusion_matrix, balanced_accuracy_score\n",
    "from sklearn.preprocessing import StandardScaler\n",
    "from sklearn.neighbors import KNeighborsClassifier\n",
    "from sklearn.model_selection import GridSearchCV\n",
    "from sklearn.model_selection import train_test_split\n",
    "from tensorflow.keras.callbacks import EarlyStopping\n",
    "from tensorflow.keras.models import Sequential\n",
    "from sklearn.ensemble import RandomForestClassifier\n",
    "from tensorflow.keras.preprocessing.image import ImageDataGenerator\n",
    "from tensorflow.keras.regularizers import l2\n",
    "from tensorflow.keras.initializers import GlorotUniform\n",
    "import seaborn as sns\n"
   ]
  },
  {
   "cell_type": "markdown",
   "metadata": {},
   "source": [
    "Load Data"
   ]
  },
  {
   "cell_type": "code",
   "execution_count": 2,
   "metadata": {},
   "outputs": [
    {
     "name": "stdout",
     "output_type": "stream",
     "text": [
      "Shape of Y_train for Class 0: 4289\n",
      "Shape of Y_train for Class 1 before: 712\n",
      "Shape of Y_train for Class 2 before: 93\n",
      "Shape of Y_train for Class 3 before: 1844\n",
      "Shape of Y_train for Class 4 before: 792\n",
      "Shape of Y_train for Class 5 before: 773\n",
      "Shape of Y_train for Class 1 after: 4272\n",
      "Shape of Y_train for Class 2 after: 744\n",
      "Shape of Y_train for Class 3 after: 3688\n",
      "Shape of Y_train for Class 4 after: 3168\n",
      "Shape of Y_train for Class 5 after: 3092\n"
     ]
    }
   ],
   "source": [
    "X_class = np.load('/home/anibalpires4/Desktop/ML/class2/Xtrain_Classification2.npy')\n",
    "Y_class = np.load('/home/anibalpires4/Desktop/ML/class2/ytrain_Classification2.npy')\n",
    "N = len(X_class)\n",
    "X_class = (X_class).astype('float32')/255.0\n",
    "X_class = X_class.reshape(X_class.shape[0],28,28,3)\n",
    "\n",
    "#Split data\n",
    "X_train, X_val, Y_train, Y_val = train_test_split(X_class, Y_class, test_size=0.2, stratify=Y_class, random_state=42)\n",
    "\n",
    "\n",
    "# Define indexes for class 1 and class 2\n",
    "indexes_class0 = [x for x in range(len(Y_train)) if Y_train[x] == 0]\n",
    "indexes_class1 = [x for x in range(len(Y_train)) if Y_train[x] == 1]\n",
    "indexes_class2 = [x for x in range(len(Y_train)) if Y_train[x] == 2]\n",
    "indexes_class3 = [x for x in range(len(Y_train)) if Y_train[x] == 3]\n",
    "indexes_class4 = [x for x in range(len(Y_train)) if Y_train[x] == 4]\n",
    "indexes_class5 = [x for x in range(len(Y_train)) if Y_train[x] == 5]\n",
    "\n",
    "# Randomly select the number of samples from each class\n",
    "#indexes_class1 = random.sample(indexes_class1, 712)\n",
    "#indexes_class2 = random.sample(indexes_class2, 93)\n",
    "\n",
    "\n",
    "# Store the shapes before augmentation\n",
    "shape_class0_before = len(indexes_class0)\n",
    "shape_class1_before = len(indexes_class1)\n",
    "shape_class2_before = len(indexes_class2)\n",
    "shape_class3_before = len(indexes_class3)\n",
    "shape_class4_before = len(indexes_class4)\n",
    "shape_class5_before = len(indexes_class5)\n",
    "\n",
    "def augment_image(image):\n",
    "    # Flip from left to right\n",
    "    image_1 = tf.image.flip_left_right(image)\n",
    "\n",
    "    # Flip up and down\n",
    "    image_2 = tf.image.flip_up_down(image)\n",
    "\n",
    "    # Rotate 90 degrees\n",
    "    image_3 = tf.image.rot90(image, k=1)\n",
    "\n",
    "    # Rotate 270 degrees\n",
    "    image_4 = tf.image.rot90(image, k=3)\n",
    "\n",
    "    # Transpose\n",
    "    image_5 = tf.image.transpose(image, name=None)\n",
    "\n",
    "    # Aplying contrast\n",
    "    image_6 = tf.image.adjust_contrast(image, contrast_factor=1.5)\n",
    "\n",
    "    image_7 = tf.image.adjust_saturation(image, saturation_factor=1.5)\n",
    "\n",
    "    #image_8 = tf.image.adjust_gamma(image, gamma= 2, gain=1)\n",
    "\n",
    "    return image_1, image_2, image_3, image_4, image_5, image_6, image_7\n",
    "\n",
    "\n",
    "for i in indexes_class1:\n",
    "    image = X_train[i]\n",
    "    augmented_images = augment_image(image)[0:5]\n",
    "    \n",
    "    for augmented_image in augmented_images:\n",
    "        augmented_image = augmented_image.numpy()\n",
    "        augmented_image = augmented_image.reshape(1, 28, 28, 3)\n",
    "        X_train = np.append(X_train, augmented_image, axis=0)\n",
    "        Y_train = np.append(Y_train, 1)\n",
    "\n",
    "for i in indexes_class2:\n",
    "    image = X_train[i]\n",
    "    augmented_images = augment_image(image)\n",
    "    \n",
    "    for augmented_image in augmented_images:\n",
    "        augmented_image = augmented_image.numpy()\n",
    "        augmented_image = augmented_image.reshape(1, 28, 28, 3)\n",
    "        X_train = np.append(X_train, augmented_image, axis=0)\n",
    "        Y_train = np.append(Y_train, 2)\n",
    "\n",
    "for i in indexes_class3:\n",
    "    image = X_train[i]\n",
    "    image = augment_image(image)[0]  \n",
    "    image = image.numpy()\n",
    "    image = image.reshape(1, 28, 28, 3)\n",
    "    X_train = np.append(X_train, image, axis=0)\n",
    "    Y_train = np.append(Y_train, 3)\n",
    "\n",
    "for i in indexes_class4:\n",
    "    image = X_train[i]\n",
    "    augmented_images = augment_image(image)[0:3]\n",
    "    \n",
    "    for augmented_image in augmented_images:\n",
    "        augmented_image = augmented_image.numpy()\n",
    "        augmented_image = augmented_image.reshape(1, 28, 28, 3)\n",
    "        X_train = np.append(X_train, augmented_image, axis=0)\n",
    "        Y_train = np.append(Y_train, 4)\n",
    "\n",
    "for i in indexes_class5:\n",
    "    image = X_train[i]\n",
    "    augmented_images = augment_image(image)[0:3]\n",
    "    \n",
    "    for augmented_image in augmented_images:\n",
    "        augmented_image = augmented_image.numpy()\n",
    "        augmented_image = augmented_image.reshape(1, 28, 28, 3)\n",
    "        X_train = np.append(X_train, augmented_image, axis=0)\n",
    "        Y_train = np.append(Y_train, 5)\n",
    "\n",
    "# Store the shapes after augmentation\n",
    "shape_class1_after = len([x for x in range(len(Y_train)) if Y_train[x] == 1])\n",
    "shape_class2_after = len([x for x in range(len(Y_train)) if Y_train[x] == 2])\n",
    "shape_class3_after = len([x for x in range(len(Y_train)) if Y_train[x] == 3])\n",
    "shape_class4_after = len([x for x in range(len(Y_train)) if Y_train[x] == 4])\n",
    "shape_class5_after = len([x for x in range(len(Y_train)) if Y_train[x] == 5])\n",
    "\n",
    "# Print the shapes before and after rotation\n",
    "print(\"Shape of Y_train for Class 0:\", shape_class0_before)\n",
    "print(\"Shape of Y_train for Class 1 before:\", shape_class1_before)\n",
    "print(\"Shape of Y_train for Class 2 before:\", shape_class2_before)\n",
    "print(\"Shape of Y_train for Class 3 before:\", shape_class3_before)\n",
    "print(\"Shape of Y_train for Class 4 before:\", shape_class4_before)\n",
    "print(\"Shape of Y_train for Class 5 before:\", shape_class5_before)\n",
    "print(\"Shape of Y_train for Class 1 after:\", shape_class1_after)\n",
    "print(\"Shape of Y_train for Class 2 after:\", shape_class2_after)\n",
    "print(\"Shape of Y_train for Class 3 after:\", shape_class3_after)\n",
    "print(\"Shape of Y_train for Class 4 after:\", shape_class4_after)\n",
    "print(\"Shape of Y_train for Class 5 after:\", shape_class5_after)\n",
    "\n",
    "\n",
    "\n",
    "\n",
    "seed = 42\n",
    "np.random.seed(seed)\n",
    "tf.random.set_seed(seed)\n",
    "random.seed(seed)\n",
    "\n",
    "class_weights = dict(zip(np.unique(Y_train), class_weight.compute_class_weight(class_weight = \"balanced\", classes= np.unique(Y_train), y= Y_train))) \n",
    "\n",
    "\n"
   ]
  },
  {
   "cell_type": "markdown",
   "metadata": {},
   "source": [
    "CNN"
   ]
  },
  {
   "cell_type": "code",
   "execution_count": 3,
   "metadata": {},
   "outputs": [
    {
     "name": "stdout",
     "output_type": "stream",
     "text": [
      "Model: \"sequential\"\n",
      "_________________________________________________________________\n",
      "Layer (type)                 Output Shape              Param #   \n",
      "=================================================================\n",
      "conv2d (Conv2D)              (None, 28, 28, 32)        896       \n",
      "_________________________________________________________________\n",
      "batch_normalization (BatchNo (None, 28, 28, 32)        128       \n",
      "_________________________________________________________________\n",
      "max_pooling2d (MaxPooling2D) (None, 14, 14, 32)        0         \n",
      "_________________________________________________________________\n",
      "conv2d_1 (Conv2D)            (None, 14, 14, 64)        18496     \n",
      "_________________________________________________________________\n",
      "batch_normalization_1 (Batch (None, 14, 14, 64)        256       \n",
      "_________________________________________________________________\n",
      "max_pooling2d_1 (MaxPooling2 (None, 7, 7, 64)          0         \n",
      "_________________________________________________________________\n",
      "flatten (Flatten)            (None, 3136)              0         \n",
      "_________________________________________________________________\n",
      "dense (Dense)                (None, 128)               401536    \n",
      "_________________________________________________________________\n",
      "batch_normalization_2 (Batch (None, 128)               512       \n",
      "_________________________________________________________________\n",
      "dropout (Dropout)            (None, 128)               0         \n",
      "_________________________________________________________________\n",
      "dense_1 (Dense)              (None, 6)                 774       \n",
      "=================================================================\n",
      "Total params: 422,598\n",
      "Trainable params: 422,150\n",
      "Non-trainable params: 448\n",
      "_________________________________________________________________\n"
     ]
    }
   ],
   "source": [
    "# Define the number of classes\n",
    "num_classes = 6\n",
    "\n",
    "custom_initializer = GlorotUniform(seed=seed)\n",
    "\n",
    "# Define a simpler model with L2 regularization and Batch Normalization\n",
    "model = Sequential([\n",
    "    layers.Conv2D(32, 3, padding='same', activation='relu', input_shape=(28, 28, 3), kernel_regularizer=l2(1e-4), kernel_initializer=custom_initializer),\n",
    "    layers.BatchNormalization(),\n",
    "    layers.MaxPooling2D(2, 2),\n",
    "    layers.Conv2D(64, 3, padding='same', activation='relu', kernel_regularizer=l2(1e-4)),\n",
    "    layers.BatchNormalization(),\n",
    "    layers.MaxPooling2D(2, 2),\n",
    "    layers.Flatten(),\n",
    "    layers.Dense(128, activation='relu', kernel_regularizer=l2(1e-4)),\n",
    "    layers.BatchNormalization(),\n",
    "    layers.Dropout(0.5),\n",
    "    layers.Dense(num_classes, activation='softmax')\n",
    "])\n",
    "\n",
    "model.compile(optimizer=tf.keras.optimizers.Adam(learning_rate=1e-4),\n",
    "              loss=tf.keras.losses.SparseCategoricalCrossentropy(from_logits=False),\n",
    "              metrics=['accuracy'])\n",
    "\n",
    "model.summary()\n",
    "\n"
   ]
  },
  {
   "cell_type": "code",
   "execution_count": 4,
   "metadata": {},
   "outputs": [
    {
     "name": "stdout",
     "output_type": "stream",
     "text": [
      "Epoch 1/100\n",
      "300/300 [==============================] - 14s 42ms/step - loss: 0.9352 - accuracy: 0.6490 - val_loss: 1.2742 - val_accuracy: 0.5564\n",
      "Epoch 2/100\n",
      "300/300 [==============================] - 11s 38ms/step - loss: 0.6022 - accuracy: 0.7557 - val_loss: 0.5695 - val_accuracy: 0.7808\n",
      "Epoch 3/100\n",
      "300/300 [==============================] - 11s 37ms/step - loss: 0.5220 - accuracy: 0.7873 - val_loss: 0.5715 - val_accuracy: 0.7516\n",
      "Epoch 4/100\n",
      "300/300 [==============================] - 16s 54ms/step - loss: 0.4702 - accuracy: 0.8038 - val_loss: 0.4740 - val_accuracy: 0.8166\n",
      "Epoch 5/100\n",
      "300/300 [==============================] - 26s 85ms/step - loss: 0.4181 - accuracy: 0.8244 - val_loss: 0.4730 - val_accuracy: 0.7921\n",
      "Epoch 6/100\n",
      "300/300 [==============================] - 18s 61ms/step - loss: 0.3961 - accuracy: 0.8372 - val_loss: 0.4203 - val_accuracy: 0.8344\n",
      "Epoch 7/100\n",
      "300/300 [==============================] - 23s 75ms/step - loss: 0.3687 - accuracy: 0.8455 - val_loss: 0.7030 - val_accuracy: 0.7008\n",
      "Epoch 8/100\n",
      "300/300 [==============================] - 19s 64ms/step - loss: 0.3604 - accuracy: 0.8521 - val_loss: 0.5153 - val_accuracy: 0.7752\n",
      "Epoch 9/100\n",
      "300/300 [==============================] - 22s 71ms/step - loss: 0.3373 - accuracy: 0.8591 - val_loss: 0.4507 - val_accuracy: 0.8231\n",
      "Epoch 10/100\n",
      "300/300 [==============================] - 25s 83ms/step - loss: 0.3161 - accuracy: 0.8688 - val_loss: 0.4314 - val_accuracy: 0.8311\n",
      "Epoch 11/100\n",
      "300/300 [==============================] - 16s 53ms/step - loss: 0.3022 - accuracy: 0.8746 - val_loss: 0.3566 - val_accuracy: 0.8589\n",
      "Epoch 12/100\n",
      "300/300 [==============================] - 20s 68ms/step - loss: 0.2931 - accuracy: 0.8783 - val_loss: 0.3737 - val_accuracy: 0.8565\n",
      "Epoch 13/100\n",
      "300/300 [==============================] - 20s 66ms/step - loss: 0.2822 - accuracy: 0.8847 - val_loss: 0.4090 - val_accuracy: 0.8264\n",
      "Epoch 14/100\n",
      "300/300 [==============================] - 20s 68ms/step - loss: 0.2699 - accuracy: 0.8872 - val_loss: 0.4148 - val_accuracy: 0.8283\n",
      "Epoch 15/100\n",
      "300/300 [==============================] - 12s 39ms/step - loss: 0.2558 - accuracy: 0.8929 - val_loss: 0.4544 - val_accuracy: 0.8048\n",
      "Epoch 16/100\n",
      "300/300 [==============================] - 12s 39ms/step - loss: 0.2438 - accuracy: 0.8962 - val_loss: 0.3237 - val_accuracy: 0.8697\n",
      "Epoch 17/100\n",
      "300/300 [==============================] - 12s 40ms/step - loss: 0.2441 - accuracy: 0.8990 - val_loss: 0.3711 - val_accuracy: 0.8542\n",
      "Epoch 18/100\n",
      "300/300 [==============================] - 12s 40ms/step - loss: 0.2364 - accuracy: 0.9013 - val_loss: 0.3496 - val_accuracy: 0.8622\n",
      "Epoch 19/100\n",
      "300/300 [==============================] - 12s 40ms/step - loss: 0.2230 - accuracy: 0.9092 - val_loss: 0.5366 - val_accuracy: 0.7921\n",
      "Epoch 20/100\n",
      "300/300 [==============================] - 12s 40ms/step - loss: 0.2267 - accuracy: 0.9060 - val_loss: 0.4080 - val_accuracy: 0.8293\n",
      "Epoch 21/100\n",
      "300/300 [==============================] - 12s 40ms/step - loss: 0.2086 - accuracy: 0.9135 - val_loss: 0.3152 - val_accuracy: 0.8824\n",
      "Epoch 22/100\n",
      "300/300 [==============================] - 12s 40ms/step - loss: 0.2030 - accuracy: 0.9177 - val_loss: 0.3663 - val_accuracy: 0.8575\n",
      "Epoch 23/100\n",
      "300/300 [==============================] - 12s 40ms/step - loss: 0.2038 - accuracy: 0.9152 - val_loss: 0.3291 - val_accuracy: 0.8716\n",
      "Epoch 24/100\n",
      "300/300 [==============================] - 12s 41ms/step - loss: 0.1929 - accuracy: 0.9238 - val_loss: 0.3205 - val_accuracy: 0.8815\n",
      "Epoch 25/100\n",
      "300/300 [==============================] - 12s 40ms/step - loss: 0.1879 - accuracy: 0.9265 - val_loss: 0.6293 - val_accuracy: 0.8095\n",
      "Epoch 26/100\n",
      "300/300 [==============================] - 12s 40ms/step - loss: 0.1766 - accuracy: 0.9291 - val_loss: 0.3908 - val_accuracy: 0.8405\n",
      "Epoch 27/100\n",
      "300/300 [==============================] - 12s 41ms/step - loss: 0.1748 - accuracy: 0.9321 - val_loss: 0.3251 - val_accuracy: 0.8782\n",
      "Epoch 28/100\n",
      "300/300 [==============================] - 12s 40ms/step - loss: 0.1694 - accuracy: 0.9335 - val_loss: 0.3376 - val_accuracy: 0.8655\n",
      "Epoch 29/100\n",
      "300/300 [==============================] - 12s 40ms/step - loss: 0.1579 - accuracy: 0.9372 - val_loss: 0.4568 - val_accuracy: 0.8184\n",
      "Epoch 30/100\n",
      "300/300 [==============================] - 12s 41ms/step - loss: 0.1519 - accuracy: 0.9410 - val_loss: 0.3661 - val_accuracy: 0.8664\n",
      "Epoch 31/100\n",
      "300/300 [==============================] - 12s 40ms/step - loss: 0.1545 - accuracy: 0.9392 - val_loss: 0.4238 - val_accuracy: 0.8481\n"
     ]
    }
   ],
   "source": [
    "# Define early stopping criteria\n",
    "early_stopping = EarlyStopping(monitor='val_loss', patience=10, restore_best_weights=True)\n",
    "\n",
    "batch_size = 64\n",
    "\n",
    "history = model.fit(x=X_train, y=Y_train, epochs=100,\n",
    "                    validation_data=(X_val, Y_val),\n",
    "                    class_weight=class_weights,\n",
    "                    steps_per_epoch=len(X_train)//batch_size,\n",
    "                    callbacks=[early_stopping])\n",
    "\n",
    "\n"
   ]
  },
  {
   "cell_type": "code",
   "execution_count": 5,
   "metadata": {},
   "outputs": [
    {
     "data": {
      "image/png": "[encoded data removed]",
      "text/plain": [
       "<Figure size 1080x360 with 2 Axes>"
      ]
     },
     "metadata": {
      "needs_background": "light"
     },
     "output_type": "display_data"
    }
   ],
   "source": [
    "acc = history.history['accuracy']\n",
    "val_acc = history.history['val_accuracy']\n",
    "\n",
    "loss = history.history['loss']\n",
    "val_loss = history.history['val_loss']\n",
    "\n",
    "epochs_range = range(len(acc))\n",
    "\n",
    "plt.figure(figsize=(15, 5))\n",
    "plt.subplot(1, 2, 1)\n",
    "plt.plot(epochs_range, acc, label='Training Accuracy')\n",
    "plt.plot(epochs_range, val_acc, label='Validation Accuracy')\n",
    "plt.legend(loc='lower right')\n",
    "plt.title('Training and Validation Accuracy')\n",
    "\n",
    "plt.subplot(1, 2, 2)\n",
    "plt.plot(epochs_range, loss, label='Training Loss')\n",
    "plt.plot(epochs_range, val_loss, label='Validation Loss')\n",
    "plt.legend(loc='upper right')\n",
    "plt.title('Training and Validation Loss')\n",
    "plt.show()\n",
    "\n"
   ]
  },
  {
   "cell_type": "code",
   "execution_count": 6,
   "metadata": {},
   "outputs": [
    {
     "name": "stdout",
     "output_type": "stream",
     "text": [
      "0.8628216753483695\n",
      "              precision    recall  f1-score   support\n",
      "\n",
      "         0.0       0.94      0.88      0.91      1073\n",
      "         1.0       0.52      0.65      0.57       178\n",
      "         2.0       0.48      0.87      0.62        23\n",
      "         3.0       0.96      0.94      0.95       461\n",
      "         4.0       0.93      0.87      0.90       198\n",
      "         5.0       0.87      0.97      0.92       193\n",
      "\n",
      "    accuracy                           0.88      2126\n",
      "   macro avg       0.78      0.86      0.81      2126\n",
      "weighted avg       0.90      0.88      0.89      2126\n",
      "\n",
      "[[949 107  17   0   0   0]\n",
      " [ 59 115   4   0   0   0]\n",
      " [  2   1  20   0   0   0]\n",
      " [  0   0   0 433  11  17]\n",
      " [  0   0   1  14 172  11]\n",
      " [  0   0   0   4   2 187]]\n"
     ]
    }
   ],
   "source": [
    "y_pred_train = model.predict(X_train)\n",
    "y_pred_train_CNN = np.argmax(y_pred_train, axis=1)\n",
    "\n",
    "y_pred = model.predict(X_val)\n",
    "y_pred_CNN = np.argmax(y_pred, axis=1)\n",
    "balance_accuracy = balanced_accuracy_score(Y_val, y_pred_CNN)\n",
    "\n",
    "print(balance_accuracy)\n",
    "print(classification_report(Y_val, y_pred_CNN))\n",
    "print(confusion_matrix(Y_val, y_pred_CNN))\n",
    "\n"
   ]
  },
  {
   "cell_type": "code",
   "execution_count": 7,
   "metadata": {},
   "outputs": [],
   "source": [
    "# Flatten the images\n",
    "X_train = X_train.reshape(X_train.shape[0], -1)\n",
    "X_val = X_val.reshape(X_val.shape[0], -1)"
   ]
  },
  {
   "cell_type": "markdown",
   "metadata": {},
   "source": [
    "SVM"
   ]
  },
  {
   "cell_type": "code",
   "execution_count": 8,
   "metadata": {},
   "outputs": [
    {
     "name": "stdout",
     "output_type": "stream",
     "text": [
      "Balanced accuracy = 0.8223624827344246\n",
      "Classification Report:\n",
      "               precision    recall  f1-score   support\n",
      "\n",
      "         0.0       0.97      0.70      0.81      1073\n",
      "         1.0       0.34      0.81      0.48       178\n",
      "         2.0       0.29      0.87      0.43        23\n",
      "         3.0       0.88      0.92      0.90       461\n",
      "         4.0       0.85      0.77      0.81       198\n",
      "         5.0       0.87      0.86      0.86       193\n",
      "\n",
      "    accuracy                           0.78      2126\n",
      "   macro avg       0.70      0.82      0.72      2126\n",
      "weighted avg       0.87      0.78      0.80      2126\n",
      "\n",
      "Confusion Matrix:\n",
      " [[753 280  40   0   0   0]\n",
      " [ 24 145   9   0   0   0]\n",
      " [  0   3  20   0   0   0]\n",
      " [  0   0   0 422  25  14]\n",
      " [  0   0   0  34 153  11]\n",
      " [  0   0   0  24   3 166]]\n"
     ]
    }
   ],
   "source": [
    "# Create and train SVM model\n",
    "SVM = svm.SVC(C=1.5, kernel='rbf', class_weight='balanced')\n",
    "SVM.fit(X_train, Y_train)\n",
    "\n",
    "# Make predictions on training data\n",
    "y_pred_train_SVM = SVM.predict(X_train)\n",
    "\n",
    "# Make predictions on validation data\n",
    "y_pred_SVM = SVM.predict(X_val)\n",
    "\n",
    "# Calculate balanced accuracy\n",
    "balanced_acc = balanced_accuracy_score(Y_val, y_pred_SVM)\n",
    "print('Balanced accuracy =', balanced_acc)\n",
    "\n",
    "# Generate a classification report\n",
    "class_report = classification_report(Y_val, y_pred_SVM)\n",
    "print(\"Classification Report:\\n\", class_report)\n",
    "\n",
    "# Generate a confusion matrix\n",
    "cm = confusion_matrix(Y_val, y_pred_SVM)\n",
    "print(\"Confusion Matrix:\\n\", cm)\n",
    "\n",
    "\n"
   ]
  },
  {
   "attachments": {},
   "cell_type": "markdown",
   "metadata": {},
   "source": [
    "Test set"
   ]
  },
  {
   "cell_type": "code",
   "execution_count": 14,
   "metadata": {},
   "outputs": [],
   "source": [
    "X_Class = np.load('/home/anibalpires4/Desktop/ML/class2/Xtrain_Classification2.npy')\n",
    "Y_Class = np.load('/home/anibalpires4/Desktop/ML/class2/ytrain_Classification2.npy')\n",
    "X_test = np.load('/home/anibalpires4/Desktop/ML/class2/Xtest_Classification2.npy')"
   ]
  },
  {
   "cell_type": "code",
   "execution_count": 15,
   "metadata": {},
   "outputs": [
    {
     "name": "stdout",
     "output_type": "stream",
     "text": [
      "[[203 161 173 ... 240 209 188]\n",
      " [168 135 130 ... 205 171 159]\n",
      " [231 154 162 ... 222 145 135]\n",
      " ...\n",
      " [172 144 132 ... 161 130 128]\n",
      " [236 208 205 ... 221 184 178]\n",
      " [248 229 199 ... 217 185 170]]\n",
      "(2658, 2352)\n"
     ]
    }
   ],
   "source": [
    "print(X_test)\n",
    "print(X_test.shape)"
   ]
  },
  {
   "cell_type": "code",
   "execution_count": 16,
   "metadata": {},
   "outputs": [
    {
     "data": {
      "text/plain": [
       "(2658, 28, 28, 3)"
      ]
     },
     "execution_count": 16,
     "metadata": {},
     "output_type": "execute_result"
    }
   ],
   "source": [
    "X_Class = (X_Class).astype('float32')/255.0\n",
    "X_Class = X_Class.reshape(-1, 28, 28, 3)\n",
    "\n",
    "X_test = (X_test).astype('float32')/255.0\n",
    "X_test = X_test.reshape(-1, 28, 28, 3)\n",
    "X_test.shape"
   ]
  },
  {
   "cell_type": "code",
   "execution_count": 17,
   "metadata": {},
   "outputs": [
    {
     "data": {
      "text/plain": [
       "<matplotlib.image.AxesImage at 0x7f33c636af98>"
      ]
     },
     "execution_count": 17,
     "metadata": {},
     "output_type": "execute_result"
    },
    {
     "data": {
      "image/png": "[encoded data removed]",
      "text/plain": [
       "<Figure size 432x288 with 1 Axes>"
      ]
     },
     "metadata": {
      "needs_background": "light"
     },
     "output_type": "display_data"
    }
   ],
   "source": [
    "plt.imshow(X_test[1])\n"
   ]
  },
  {
   "cell_type": "code",
   "execution_count": 18,
   "metadata": {},
   "outputs": [
    {
     "data": {
      "text/plain": [
       "<matplotlib.image.AxesImage at 0x7f33c66f4438>"
      ]
     },
     "execution_count": 18,
     "metadata": {},
     "output_type": "execute_result"
    },
    {
     "data": {
      "image/png": "[encoded data removed]",
      "text/plain": [
       "<Figure size 432x288 with 1 Axes>"
      ]
     },
     "metadata": {
      "needs_background": "light"
     },
     "output_type": "display_data"
    }
   ],
   "source": [
    "plt.imshow(X_Class[8])"
   ]
  },
  {
   "cell_type": "code",
   "execution_count": 19,
   "metadata": {},
   "outputs": [],
   "source": [
    "# Define indexes for class 1 and class 2\n",
    "indexes_class0 = [x for x in range(len(Y_Class)) if Y_Class[x] == 0]\n",
    "indexes_class1 = [x for x in range(len(Y_Class)) if Y_Class[x] == 1]\n",
    "indexes_class2 = [x for x in range(len(Y_Class)) if Y_Class[x] == 2]\n",
    "indexes_class3 = [x for x in range(len(Y_Class)) if Y_Class[x] == 3]\n",
    "indexes_class4 = [x for x in range(len(Y_Class)) if Y_Class[x] == 4]\n",
    "indexes_class5 = [x for x in range(len(Y_Class)) if Y_Class[x] == 5]\n",
    "\n",
    "\n",
    "# Store the shapes before augmentation\n",
    "shape_class0_before = len(indexes_class0)\n",
    "shape_class1_before = len(indexes_class1)\n",
    "shape_class2_before = len(indexes_class2)\n",
    "shape_class3_before = len(indexes_class3)\n",
    "shape_class4_before = len(indexes_class4)\n",
    "shape_class5_before = len(indexes_class5)\n",
    "\n",
    "for i in indexes_class1:\n",
    "    image = X_Class[i]\n",
    "    augmented_images = augment_image(image)[0:5]\n",
    "    \n",
    "    for augmented_image in augmented_images:\n",
    "        augmented_image = augmented_image.numpy()\n",
    "        augmented_image = augmented_image.reshape(1, 28, 28, 3)\n",
    "        X_Class = np.append(X_Class, augmented_image, axis=0)\n",
    "        Y_Class = np.append(Y_Class, 1)\n",
    "\n",
    "for i in indexes_class2:\n",
    "    image = X_Class[i]\n",
    "    augmented_images = augment_image(image)\n",
    "    \n",
    "    for augmented_image in augmented_images:\n",
    "        augmented_image = augmented_image.numpy()\n",
    "        augmented_image = augmented_image.reshape(1, 28, 28, 3)\n",
    "        X_Class = np.append(X_Class, augmented_image, axis=0)\n",
    "        Y_Class = np.append(Y_Class, 2)\n",
    "\n",
    "for i in indexes_class3:\n",
    "    image = X_Class[i]\n",
    "    image = augment_image(image)[0]  \n",
    "    image = image.numpy()\n",
    "    image = image.reshape(1, 28, 28, 3)\n",
    "    X_Class = np.append(X_Class, image, axis=0)\n",
    "    Y_Class = np.append(Y_Class, 3)\n",
    "\n",
    "for i in indexes_class4:\n",
    "    image = X_Class[i]\n",
    "    augmented_images = augment_image(image)[0:3]\n",
    "    \n",
    "    for augmented_image in augmented_images:\n",
    "        augmented_image = augmented_image.numpy()\n",
    "        augmented_image = augmented_image.reshape(1, 28, 28, 3)\n",
    "        X_Class = np.append(X_Class, augmented_image, axis=0)\n",
    "        Y_Class = np.append(Y_Class, 4)\n",
    "\n",
    "for i in indexes_class5:\n",
    "    image = X_Class[i]\n",
    "    augmented_images = augment_image(image)[0:3]\n",
    "    \n",
    "    for augmented_image in augmented_images:\n",
    "        augmented_image = augmented_image.numpy()\n",
    "        augmented_image = augmented_image.reshape(1, 28, 28, 3)\n",
    "        X_Class = np.append(X_Class, augmented_image, axis=0)\n",
    "        Y_Class = np.append(Y_Class, 5)\n"
   ]
  },
  {
   "cell_type": "code",
   "execution_count": 20,
   "metadata": {},
   "outputs": [
    {
     "name": "stdout",
     "output_type": "stream",
     "text": [
      "Shape of Y_train for Class 0: 5362\n",
      "Shape of Y_train for Class 1 before: 890\n",
      "Shape of Y_train for Class 2 before: 116\n",
      "Shape of Y_train for Class 3 before: 2305\n",
      "Shape of Y_train for Class 4 before: 990\n",
      "Shape of Y_train for Class 5 before: 966\n",
      "Shape of Y_train for Class 1 after: 5340\n",
      "Shape of Y_train for Class 2 after: 928\n",
      "Shape of Y_train for Class 3 after: 4610\n",
      "Shape of Y_train for Class 4 after: 3960\n",
      "Shape of Y_train for Class 5 after: 3864\n"
     ]
    }
   ],
   "source": [
    "# Store the shapes after augmentation\n",
    "shape_class1_after = len([x for x in range(len(Y_Class)) if Y_Class[x] == 1])\n",
    "shape_class2_after = len([x for x in range(len(Y_Class)) if Y_Class[x] == 2])\n",
    "shape_class3_after = len([x for x in range(len(Y_Class)) if Y_Class[x] == 3])\n",
    "shape_class4_after = len([x for x in range(len(Y_Class)) if Y_Class[x] == 4])\n",
    "shape_class5_after = len([x for x in range(len(Y_Class)) if Y_Class[x] == 5])\n",
    "\n",
    "# Print the shapes before and after rotation\n",
    "print(\"Shape of Y_train for Class 0:\", shape_class0_before)\n",
    "print(\"Shape of Y_train for Class 1 before:\", shape_class1_before)\n",
    "print(\"Shape of Y_train for Class 2 before:\", shape_class2_before)\n",
    "print(\"Shape of Y_train for Class 3 before:\", shape_class3_before)\n",
    "print(\"Shape of Y_train for Class 4 before:\", shape_class4_before)\n",
    "print(\"Shape of Y_train for Class 5 before:\", shape_class5_before)\n",
    "print(\"Shape of Y_train for Class 1 after:\", shape_class1_after)\n",
    "print(\"Shape of Y_train for Class 2 after:\", shape_class2_after)\n",
    "print(\"Shape of Y_train for Class 3 after:\", shape_class3_after)\n",
    "print(\"Shape of Y_train for Class 4 after:\", shape_class4_after)\n",
    "print(\"Shape of Y_train for Class 5 after:\", shape_class5_after)\n",
    "\n",
    "\n",
    "_, x_val, _, y_val = train_test_split(X_Class, Y_Class, test_size=0.2, random_state=42)\n",
    "\n",
    "\n",
    "seed = 42\n",
    "np.random.seed(seed)\n",
    "tf.random.set_seed(seed)\n",
    "random.seed(seed)\n",
    "\n",
    "class_weights = dict(zip(np.unique(Y_Class), class_weight.compute_class_weight(class_weight = \"balanced\", classes= np.unique(Y_Class), y= Y_Class)))"
   ]
  },
  {
   "cell_type": "code",
   "execution_count": 21,
   "metadata": {},
   "outputs": [
    {
     "name": "stdout",
     "output_type": "stream",
     "text": [
      "Model: \"sequential_2\"\n",
      "_________________________________________________________________\n",
      "Layer (type)                 Output Shape              Param #   \n",
      "=================================================================\n",
      "conv2d_2 (Conv2D)            (None, 28, 28, 32)        896       \n",
      "_________________________________________________________________\n",
      "batch_normalization_5 (Batch (None, 28, 28, 32)        128       \n",
      "_________________________________________________________________\n",
      "max_pooling2d_2 (MaxPooling2 (None, 14, 14, 32)        0         \n",
      "_________________________________________________________________\n",
      "conv2d_3 (Conv2D)            (None, 14, 14, 64)        18496     \n",
      "_________________________________________________________________\n",
      "batch_normalization_6 (Batch (None, 14, 14, 64)        256       \n",
      "_________________________________________________________________\n",
      "max_pooling2d_3 (MaxPooling2 (None, 7, 7, 64)          0         \n",
      "_________________________________________________________________\n",
      "flatten_1 (Flatten)          (None, 3136)              0         \n",
      "_________________________________________________________________\n",
      "dense_5 (Dense)              (None, 128)               401536    \n",
      "_________________________________________________________________\n",
      "batch_normalization_7 (Batch (None, 128)               512       \n",
      "_________________________________________________________________\n",
      "dropout_1 (Dropout)          (None, 128)               0         \n",
      "_________________________________________________________________\n",
      "dense_6 (Dense)              (None, 6)                 774       \n",
      "=================================================================\n",
      "Total params: 422,598\n",
      "Trainable params: 422,150\n",
      "Non-trainable params: 448\n",
      "_________________________________________________________________\n"
     ]
    }
   ],
   "source": [
    "# Define the number of classes\n",
    "num_classes = 6\n",
    "\n",
    "custom_initializer = GlorotUniform(seed=seed)\n",
    "\n",
    "# Define a simpler model with L2 regularization and Batch Normalization\n",
    "model = Sequential([\n",
    "    layers.Conv2D(32, 3, padding='same', activation='relu', input_shape=(28, 28, 3), kernel_regularizer=l2(1e-4), kernel_initializer=custom_initializer),\n",
    "    layers.BatchNormalization(),\n",
    "    layers.MaxPooling2D(2, 2),\n",
    "    layers.Conv2D(64, 3, padding='same', activation='relu', kernel_regularizer=l2(1e-4)),\n",
    "    layers.BatchNormalization(),\n",
    "    layers.MaxPooling2D(2, 2),\n",
    "    layers.Flatten(),\n",
    "    layers.Dense(128, activation='relu', kernel_regularizer=l2(1e-4)),\n",
    "    layers.BatchNormalization(),\n",
    "    layers.Dropout(0.5),\n",
    "    layers.Dense(num_classes, activation='softmax')\n",
    "])\n",
    "\n",
    "model.compile(optimizer=tf.keras.optimizers.Adam(learning_rate=1e-4),\n",
    "              loss=tf.keras.losses.SparseCategoricalCrossentropy(from_logits=False),\n",
    "              metrics=['accuracy'])\n",
    "\n",
    "model.summary()"
   ]
  },
  {
   "cell_type": "code",
   "execution_count": 22,
   "metadata": {},
   "outputs": [
    {
     "name": "stdout",
     "output_type": "stream",
     "text": [
      "Epoch 1/21\n",
      "300/300 [==============================] - 17s 53ms/step - loss: 0.8903 - accuracy: 0.6663 - val_loss: 2.0985 - val_accuracy: 0.2944\n",
      "Epoch 2/21\n",
      "300/300 [==============================] - 27s 91ms/step - loss: 0.5803 - accuracy: 0.7647 - val_loss: 0.5859 - val_accuracy: 0.7559\n",
      "Epoch 3/21\n",
      "300/300 [==============================] - 32s 106ms/step - loss: 0.4977 - accuracy: 0.7944 - val_loss: 0.3972 - val_accuracy: 0.8527\n",
      "Epoch 4/21\n",
      "300/300 [==============================] - 31s 104ms/step - loss: 0.4385 - accuracy: 0.8187 - val_loss: 0.4436 - val_accuracy: 0.8213\n",
      "Epoch 5/21\n",
      "300/300 [==============================] - 32s 105ms/step - loss: 0.4084 - accuracy: 0.8335 - val_loss: 0.3474 - val_accuracy: 0.8731\n",
      "Epoch 6/21\n",
      "300/300 [==============================] - 32s 106ms/step - loss: 0.3775 - accuracy: 0.8422 - val_loss: 0.3198 - val_accuracy: 0.8859\n",
      "Epoch 7/21\n",
      "300/300 [==============================] - 32s 106ms/step - loss: 0.3557 - accuracy: 0.8533 - val_loss: 0.3645 - val_accuracy: 0.8618\n",
      "Epoch 8/21\n",
      "300/300 [==============================] - 32s 107ms/step - loss: 0.3355 - accuracy: 0.8603 - val_loss: 0.3356 - val_accuracy: 0.8712\n",
      "Epoch 9/21\n",
      "300/300 [==============================] - 32s 107ms/step - loss: 0.3182 - accuracy: 0.8682 - val_loss: 0.2961 - val_accuracy: 0.8880\n",
      "Epoch 10/21\n",
      "300/300 [==============================] - 32s 106ms/step - loss: 0.3021 - accuracy: 0.8745 - val_loss: 0.2697 - val_accuracy: 0.9028\n",
      "Epoch 11/21\n",
      "300/300 [==============================] - 32s 108ms/step - loss: 0.2886 - accuracy: 0.8805 - val_loss: 0.2723 - val_accuracy: 0.8990\n",
      "Epoch 12/21\n",
      "300/300 [==============================] - 37s 125ms/step - loss: 0.2759 - accuracy: 0.8876 - val_loss: 0.2559 - val_accuracy: 0.9077\n",
      "Epoch 13/21\n",
      "300/300 [==============================] - 31s 104ms/step - loss: 0.2636 - accuracy: 0.8890 - val_loss: 0.2567 - val_accuracy: 0.9023\n",
      "Epoch 14/21\n",
      "300/300 [==============================] - 32s 105ms/step - loss: 0.2607 - accuracy: 0.8934 - val_loss: 0.2441 - val_accuracy: 0.9096\n",
      "Epoch 15/21\n",
      "300/300 [==============================] - 32s 106ms/step - loss: 0.2431 - accuracy: 0.8984 - val_loss: 0.2470 - val_accuracy: 0.9082\n",
      "Epoch 16/21\n",
      "300/300 [==============================] - 32s 105ms/step - loss: 0.2355 - accuracy: 0.9026 - val_loss: 0.2096 - val_accuracy: 0.9269\n",
      "Epoch 17/21\n",
      "300/300 [==============================] - 32s 107ms/step - loss: 0.2257 - accuracy: 0.9055 - val_loss: 0.3064 - val_accuracy: 0.8849\n",
      "Epoch 18/21\n",
      "300/300 [==============================] - 32s 106ms/step - loss: 0.2288 - accuracy: 0.9056 - val_loss: 0.2170 - val_accuracy: 0.9256\n",
      "Epoch 19/21\n",
      "300/300 [==============================] - 27s 92ms/step - loss: 0.2217 - accuracy: 0.9099 - val_loss: 0.2171 - val_accuracy: 0.9215\n",
      "Epoch 20/21\n",
      "300/300 [==============================] - 23s 77ms/step - loss: 0.2148 - accuracy: 0.9113 - val_loss: 0.2177 - val_accuracy: 0.9219\n",
      "Epoch 21/21\n",
      "257/300 [========================>.....] - ETA: 4s - loss: 0.2048 - accuracy: 0.9160WARNING:tensorflow:Your input ran out of data; interrupting training. Make sure that your dataset or generator can generate at least `steps_per_epoch * epochs` batches (in this case, 6300 batches). You may need to use the repeat() function when building your dataset.\n",
      "300/300 [==============================] - 26s 85ms/step - loss: 0.2049 - accuracy: 0.9160 - val_loss: 0.1984 - val_accuracy: 0.9275\n"
     ]
    }
   ],
   "source": [
    "# Define early stopping criteria\n",
    "#early_stopping = EarlyStopping(monitor='val_loss', patience=10, restore_best_weights=True)\n",
    "\n",
    "batch_size = 64\n",
    "\n",
    "history = model.fit(x=X_Class, y=Y_Class, epochs=21,\n",
    "                    validation_data=(x_val, y_val),\n",
    "                    class_weight=class_weights,\n",
    "                    steps_per_epoch=len(X_train)//batch_size)\n",
    "                    #callbacks=[early_stopping])"
   ]
  },
  {
   "cell_type": "code",
   "execution_count": 24,
   "metadata": {},
   "outputs": [
    {
     "name": "stdout",
     "output_type": "stream",
     "text": [
      "0.9428055683212687\n",
      "              precision    recall  f1-score   support\n",
      "\n",
      "         0.0       0.94      0.79      0.86      1092\n",
      "         1.0       0.82      0.94      0.88      1072\n",
      "         2.0       0.89      0.99      0.94       192\n",
      "         3.0       0.97      0.99      0.98       903\n",
      "         4.0       0.97      0.99      0.98       779\n",
      "         5.0       1.00      0.95      0.97       775\n",
      "\n",
      "    accuracy                           0.93      4813\n",
      "   macro avg       0.93      0.94      0.93      4813\n",
      "weighted avg       0.93      0.93      0.93      4813\n",
      "\n",
      "[[ 862  217   13    0    0    0]\n",
      " [  54 1007   11    0    0    0]\n",
      " [   0    1  191    0    0    0]\n",
      " [   0    0    0  894    8    1]\n",
      " [   0    0    0    5  773    1]\n",
      " [   0    0    0   25   13  737]]\n"
     ]
    }
   ],
   "source": [
    "y_pred = model.predict(x_val)\n",
    "y_pred_CNN = np.argmax(y_pred, axis=1)\n",
    "balance_accuracy = balanced_accuracy_score(y_val, y_pred_CNN)\n",
    "\n",
    "print(balance_accuracy)\n",
    "print(classification_report(y_val, y_pred_CNN))\n",
    "print(confusion_matrix(y_val, y_pred_CNN))"
   ]
  },
  {
   "attachments": {},
   "cell_type": "markdown",
   "metadata": {},
   "source": [
    "X_test prediction"
   ]
  },
  {
   "cell_type": "code",
   "execution_count": 25,
   "metadata": {},
   "outputs": [
    {
     "name": "stdout",
     "output_type": "stream",
     "text": [
      "(2658, 28, 28, 3)\n",
      "(2658, 6)\n",
      "(2658,)\n"
     ]
    }
   ],
   "source": [
    "print(X_test.shape)\n",
    "\n",
    "y_test_prediction = model.predict(X_test)\n",
    "print(y_test_prediction.shape)\n",
    "\n",
    "class2_prediction = np.argmax(y_test_prediction, axis = 1)\n",
    "print(class2_prediction.shape)\n",
    "\n",
    "np.save('/home/anibalpires4/Desktop/ML/Classification_2/class4_prediction.npy', class2_prediction)"
   ]
  },
  {
   "cell_type": "code",
   "execution_count": 26,
   "metadata": {},
   "outputs": [],
   "source": [
    "prediction = np.load('/home/anibalpires4/Desktop/ML/Classification_2/class4_prediction.npy')"
   ]
  },
  {
   "cell_type": "code",
   "execution_count": 27,
   "metadata": {},
   "outputs": [
    {
     "name": "stdout",
     "output_type": "stream",
     "text": [
      "number of zeros = 1054\n",
      "number of ones = 492\n",
      "number of twos = 47\n",
      "number of threes = 584\n",
      "number of fours = 255\n",
      "number of fives = 226\n"
     ]
    }
   ],
   "source": [
    "idx_0  = np.array(np.where(prediction==0))\n",
    "idx_1 = np.array(np.where(prediction==1))\n",
    "idx_2 = np.array(np.where(prediction==2))\n",
    "idx_3 = np.array(np.where(prediction==3))\n",
    "idx_4 = np.array(np.where(prediction==4))\n",
    "idx_5 = np.array(np.where(prediction==5))\n",
    "\n",
    "n_0 = idx_0.size\n",
    "n_1 = idx_1.size\n",
    "n_2 = idx_2.size\n",
    "n_3 = idx_3.size\n",
    "n_4 = idx_4.size\n",
    "n_5 = idx_5.size\n",
    "\n",
    "print(\"number of zeros = \" + str(n_0))\n",
    "print(\"number of ones = \" + str(n_1))\n",
    "print(\"number of twos = \" + str(n_2))\n",
    "print(\"number of threes = \" + str(n_3))\n",
    "print(\"number of fours = \" + str(n_4))\n",
    "print(\"number of fives = \" + str(n_5))"
   ]
  },
  {
   "cell_type": "code",
   "execution_count": 28,
   "metadata": {},
   "outputs": [
    {
     "data": {
      "image/png": "[encoded data removed]",
      "text/plain": [
       "<Figure size 720x432 with 1 Axes>"
      ]
     },
     "metadata": {
      "needs_background": "light"
     },
     "output_type": "display_data"
    },
    {
     "name": "stdout",
     "output_type": "stream",
     "text": [
      "[39.65387509405568, 18.510158013544018, 1.7682468021068474, 21.97140707298721, 9.593679458239277, 8.502633559066968]\n"
     ]
    }
   ],
   "source": [
    "# Define categories and corresponding values\n",
    "categories = ['Nevu', 'Melanoma', 'Vascular lesions', 'Granulocytes', 'Basophils', 'Lymphocytes']\n",
    "values = [n_0, n_1, n_2, n_3, n_4, n_5]\n",
    "\n",
    "colors = ['#8B0000', '#00008B', '#228B22', '#8B008B', '#8B8B00', '#008B8B'] \n",
    "\n",
    "plt.figure(figsize=(10, 6))  \n",
    "\n",
    "# Create the bar plot\n",
    "plt.bar(categories, values, color=colors)\n",
    "plt.ylabel('Count')\n",
    "plt.title('Number of cases in the training data')\n",
    "\n",
    "# Rotate the x-axis labels for better visibility\n",
    "plt.xticks(rotation=45)\n",
    "\n",
    "plt.tight_layout() \n",
    "plt.show()\n",
    "\n",
    "# Calculate the total count\n",
    "total_count = sum(values)\n",
    "\n",
    "# Calculate the percentages for each category\n",
    "percentages = [(count / total_count) * 100 for count in values]\n",
    "print(percentages)"
   ]
  },
  {
   "cell_type": "code",
   "execution_count": null,
   "metadata": {},
   "outputs": [],
   "source": []
  }
 ],
 "metadata": {
  "kernelspec": {
   "display_name": "Python 3 (ipykernel)",
   "language": "python",
   "name": "python3"
  },
  "language_info": {
   "codemirror_mode": {
    "name": "ipython",
    "version": 3
   },
   "file_extension": ".py",
   "mimetype": "text/x-python",
   "name": "python",
   "nbconvert_exporter": "python",
   "pygments_lexer": "ipython3",
   "version": "3.6.13"
  },
  "vscode": {
   "interpreter": {
    "hash": "69b716261f6fa49fffbb05445673ca5bb4102be0a521d9443ad1f5e1c824217c"
   }
  }
 },
 "nbformat": 4,
 "nbformat_minor": 4
}
